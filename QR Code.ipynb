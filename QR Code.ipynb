{
 "cells": [
  {
   "cell_type": "code",
   "execution_count": 2,
   "id": "9390354d-7a85-4d86-8575-67c4c9c1a2a3",
   "metadata": {},
   "outputs": [],
   "source": [
    "import qrcode as qr"
   ]
  },
  {
   "cell_type": "code",
   "execution_count": 3,
   "id": "71de6e7e-3b02-4ee0-a417-773d9ad47011",
   "metadata": {},
   "outputs": [],
   "source": [
    "img= qr.make(\"https://www.youtube.com/channel/UCo5r7-3QG59bIwloFN-898A\")\n",
    "img.save('bhopendra_youtube.png')"
   ]
  },
  {
   "cell_type": "code",
   "execution_count": null,
   "id": "b1513465-2779-4007-8342-3930f5718c1e",
   "metadata": {},
   "outputs": [],
   "source": []
  }
 ],
 "metadata": {
  "kernelspec": {
   "display_name": "Python 3 (ipykernel)",
   "language": "python",
   "name": "python3"
  },
  "language_info": {
   "codemirror_mode": {
    "name": "ipython",
    "version": 3
   },
   "file_extension": ".py",
   "mimetype": "text/x-python",
   "name": "python",
   "nbconvert_exporter": "python",
   "pygments_lexer": "ipython3",
   "version": "3.11.5"
  }
 },
 "nbformat": 4,
 "nbformat_minor": 5
}
